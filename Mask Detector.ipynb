{
 "cells": [
  {
   "cell_type": "markdown",
   "metadata": {},
   "source": [
    "IMPORTING THE LIBRARIES"
   ]
  },
  {
   "cell_type": "code",
   "execution_count": 1,
   "metadata": {},
   "outputs": [],
   "source": [
    "import tensorflow as tf\n",
    "from keras.preprocessing.image import ImageDataGenerator\n",
    "from keras.wrappers.scikit_learn import KerasClassifier"
   ]
  },
  {
   "cell_type": "code",
   "execution_count": 2,
   "metadata": {},
   "outputs": [],
   "source": [
    "train_datagen = ImageDataGenerator(rescale = 1./255,\n",
    "                                  shear_range=0.2,\n",
    "                                  zoom_range=0.2,\n",
    "                                  horizontal_flip=True,\n",
    "                                  rotation_range=40,\n",
    "                                  width_shift_range=0.2,\n",
    "                                  height_shift_range=0.2,\n",
    "                                  fill_mode='nearest',\n",
    "                                  validation_split=0.05)"
   ]
  },
  {
   "cell_type": "markdown",
   "metadata": {},
   "source": [
    "IMPORTING THE DATASET"
   ]
  },
  {
   "cell_type": "code",
   "execution_count": 3,
   "metadata": {},
   "outputs": [
    {
     "name": "stdout",
     "output_type": "stream",
     "text": [
      "Found 1783 images belonging to 2 classes.\n"
     ]
    }
   ],
   "source": [
    "training_set = train_datagen.flow_from_directory('MaskData',\n",
    "                                                target_size=(224,224),\n",
    "                                                batch_size=16,\n",
    "                                                class_mode='binary',\n",
    "                                                subset = 'training')"
   ]
  },
  {
   "cell_type": "code",
   "execution_count": 9,
   "metadata": {},
   "outputs": [
    {
     "name": "stdout",
     "output_type": "stream",
     "text": [
      "Found 93 images belonging to 2 classes.\n"
     ]
    }
   ],
   "source": [
    "validation_set = train_datagen.flow_from_directory('MaskData',\n",
    "                                                       target_size=(224,224),\n",
    "                                                       batch_size=16,\n",
    "                                                       class_mode='binary',\n",
    "                                                       subset = 'validation')"
   ]
  },
  {
   "cell_type": "markdown",
   "metadata": {},
   "source": [
    "TRAINING OF THE MODEL"
   ]
  },
  {
   "cell_type": "code",
   "execution_count": 10,
   "metadata": {},
   "outputs": [],
   "source": [
    "from keras.applications.vgg16 import VGG16\n",
    "from keras.applications.vgg16 import preprocess_input\n",
    "from keras.layers import Input, Dense, Flatten\n",
    "from keras.models import Model\n",
    "from keras.models import Sequential\n",
    "import numpy as np\n",
    "\n",
    "vgg = VGG16(input_shape=[224,224]+[3],weights='imagenet', include_top=False)"
   ]
  },
  {
   "cell_type": "code",
   "execution_count": 11,
   "metadata": {},
   "outputs": [],
   "source": [
    "for layer in vgg.layers:\n",
    "    layer.trainable = False\n",
    "    \n",
    "x = Flatten()(vgg.output)\n",
    "prediction = Dense(units=1,activation='sigmoid')(x)\n",
    "model = Model(inputs= vgg.input,outputs=prediction)\n",
    "model.compile(loss='binary_crossentropy',optimizer='adam',metrics=['accuracy'])\n"
   ]
  },
  {
   "cell_type": "code",
   "execution_count": 12,
   "metadata": {},
   "outputs": [
    {
     "name": "stdout",
     "output_type": "stream",
     "text": [
      "WARNING:tensorflow:From <ipython-input-12-ead486cdbf90>:1: Model.fit_generator (from tensorflow.python.keras.engine.training) is deprecated and will be removed in a future version.\n",
      "Instructions for updating:\n",
      "Please use Model.fit, which supports generators.\n",
      "Epoch 1/25\n",
      "112/112 [==============================] - 622s 6s/step - loss: 0.4017 - accuracy: 0.8082 - val_loss: 0.5953 - val_accuracy: 0.6882\n",
      "Epoch 2/25\n",
      "112/112 [==============================] - 529s 5s/step - loss: 0.2586 - accuracy: 0.8884 - val_loss: 0.5082 - val_accuracy: 0.7849\n",
      "Epoch 3/25\n",
      "112/112 [==============================] - 498s 4s/step - loss: 0.2306 - accuracy: 0.9007 - val_loss: 0.4492 - val_accuracy: 0.8065\n",
      "Epoch 4/25\n",
      "112/112 [==============================] - 553s 5s/step - loss: 0.2077 - accuracy: 0.9136 - val_loss: 0.6851 - val_accuracy: 0.7204\n",
      "Epoch 5/25\n",
      "112/112 [==============================] - 554s 5s/step - loss: 0.2021 - accuracy: 0.9159 - val_loss: 0.4370 - val_accuracy: 0.7527\n",
      "Epoch 6/25\n",
      "112/112 [==============================] - 549s 5s/step - loss: 0.2282 - accuracy: 0.9080 - val_loss: 0.8890 - val_accuracy: 0.7742\n",
      "Epoch 7/25\n",
      "112/112 [==============================] - 428s 4s/step - loss: 0.2409 - accuracy: 0.8990 - val_loss: 0.4936 - val_accuracy: 0.7742\n",
      "Epoch 8/25\n",
      "112/112 [==============================] - 323s 3s/step - loss: 0.1829 - accuracy: 0.9248 - val_loss: 0.4100 - val_accuracy: 0.8172\n",
      "Epoch 9/25\n",
      "112/112 [==============================] - 320s 3s/step - loss: 0.1649 - accuracy: 0.9310 - val_loss: 0.4237 - val_accuracy: 0.8065\n",
      "Epoch 10/25\n",
      "112/112 [==============================] - 321s 3s/step - loss: 0.1784 - accuracy: 0.9237 - val_loss: 0.5486 - val_accuracy: 0.7957\n",
      "Epoch 11/25\n",
      "112/112 [==============================] - 321s 3s/step - loss: 0.1651 - accuracy: 0.9305 - val_loss: 0.6088 - val_accuracy: 0.8065\n",
      "Epoch 12/25\n",
      "112/112 [==============================] - 321s 3s/step - loss: 0.1717 - accuracy: 0.9327 - val_loss: 0.4460 - val_accuracy: 0.8280\n",
      "Epoch 13/25\n",
      "112/112 [==============================] - 322s 3s/step - loss: 0.1587 - accuracy: 0.9344 - val_loss: 0.5719 - val_accuracy: 0.7634\n",
      "Epoch 14/25\n",
      "112/112 [==============================] - 321s 3s/step - loss: 0.1574 - accuracy: 0.9277 - val_loss: 0.6002 - val_accuracy: 0.7634\n",
      "Epoch 15/25\n",
      "112/112 [==============================] - 486s 4s/step - loss: 0.1683 - accuracy: 0.9265 - val_loss: 0.4307 - val_accuracy: 0.7957\n",
      "Epoch 16/25\n",
      "112/112 [==============================] - 694s 6s/step - loss: 0.1541 - accuracy: 0.9366 - val_loss: 0.3400 - val_accuracy: 0.8495\n",
      "Epoch 17/25\n",
      "112/112 [==============================] - 677s 6s/step - loss: 0.1435 - accuracy: 0.9372 - val_loss: 0.3359 - val_accuracy: 0.8495\n",
      "Epoch 18/25\n",
      "112/112 [==============================] - 491s 4s/step - loss: 0.1329 - accuracy: 0.9490 - val_loss: 0.4814 - val_accuracy: 0.7957\n",
      "Epoch 19/25\n",
      "112/112 [==============================] - 516s 5s/step - loss: 0.1683 - accuracy: 0.9327 - val_loss: 0.6088 - val_accuracy: 0.8172\n",
      "Epoch 20/25\n",
      "112/112 [==============================] - 497s 4s/step - loss: 0.1518 - accuracy: 0.9434 - val_loss: 0.4520 - val_accuracy: 0.8172\n",
      "Epoch 21/25\n",
      "112/112 [==============================] - 495s 4s/step - loss: 0.1394 - accuracy: 0.9434 - val_loss: 0.4262 - val_accuracy: 0.8710\n",
      "Epoch 22/25\n",
      "112/112 [==============================] - 557s 5s/step - loss: 0.1669 - accuracy: 0.9321 - val_loss: 0.4791 - val_accuracy: 0.8387\n",
      "Epoch 23/25\n",
      "112/112 [==============================] - 558s 5s/step - loss: 0.1207 - accuracy: 0.9534 - val_loss: 0.3911 - val_accuracy: 0.8495\n",
      "Epoch 24/25\n",
      "112/112 [==============================] - 556s 5s/step - loss: 0.1261 - accuracy: 0.9490 - val_loss: 0.4536 - val_accuracy: 0.8387\n",
      "Epoch 25/25\n",
      "112/112 [==============================] - 431s 4s/step - loss: 0.1490 - accuracy: 0.9400 - val_loss: 0.5450 - val_accuracy: 0.8065\n"
     ]
    }
   ],
   "source": [
    "n = model.fit_generator(training_set,validation_data=validation_set,epochs=25,steps_per_epoch=len(training_set), validation_steps=len(validation_set))"
   ]
  },
  {
   "cell_type": "code",
   "execution_count": 13,
   "metadata": {},
   "outputs": [],
   "source": [
    "model.save('mask_detector.h5')"
   ]
  },
  {
   "cell_type": "code",
   "execution_count": 4,
   "metadata": {},
   "outputs": [
    {
     "name": "stdout",
     "output_type": "stream",
     "text": [
      "{'masked': 0, 'unmask': 1}\n"
     ]
    }
   ],
   "source": [
    "print(training_set.class_indices)"
   ]
  },
  {
   "cell_type": "code",
   "execution_count": null,
   "metadata": {},
   "outputs": [],
   "source": [
    "import cv2\n",
    "import keras\n",
    "import numpy as np\n",
    "\n",
    "face_cascade = cv2.CascadeClassifier('haarcascade_frontalface_default.xml')\n",
    "\n",
    "model = keras.models.load_model('mask_detector.h5')\n",
    "\n",
    "cap = cv2.VideoCapture(0)\n",
    "\n",
    "while(1):\n",
    "    _,img = cap.read()\n",
    "    gray = cv2.cvtColor(img,cv2.COLOR_BGR2GRAY)\n",
    "    \n",
    "    if cv2.waitKey(1) & 0xFF == ord('q'):\n",
    "        break\n",
    "        \n",
    "    faces = face_cascade.detectMultiScale(gray,1.1,4)\n",
    "    \n",
    "    for (x,y,w,h) in faces:\n",
    "        cv2.rectangle(img,(x,y),(x+w,y+h), (0,0,255),3)\n",
    "        \n",
    "        roi = img[y:y+h,x:x+w]\n",
    "        \n",
    "        image = cv2.resize(roi,(224,224))\n",
    "        image2 = np.expand_dims(image,axis=0)   \n",
    "        \n",
    "        result = model.predict(image2)\n",
    "        \n",
    "        prediction = ''\n",
    "        flag = 0\n",
    "        \n",
    "        if(result[0][0] == 0):\n",
    "            cv2.rectangle(img,(x,y),(x+w,y+h), (255,0,0),3)\n",
    "            prediction = 'MASK '\n",
    "            flag = 1\n",
    "        else:\n",
    "            prediction = 'UNMASK'\n",
    "            \n",
    "        if flag == 0:\n",
    "            font = cv2.FONT_HERSHEY_SIMPLEX\n",
    "            img = cv2.putText(img, prediction, (x,y-5), font, 1, (0,0,255), 3, cv2.LINE_AA)\n",
    "            \n",
    "        else:\n",
    "            font = cv2.FONT_HERSHEY_SIMPLEX\n",
    "            img = cv2.putText(img, prediction, (x,y-5), font, 1, (255,0,0), 3, cv2.LINE_AA)\n",
    "        \n",
    "    cv2.imshow(\"RESULT\",img)\n",
    "    \n",
    "cap.release()\n",
    "cv2.destroyAllWindows()\n",
    "        \n",
    "    "
   ]
  },
  {
   "cell_type": "code",
   "execution_count": null,
   "metadata": {},
   "outputs": [],
   "source": []
  }
 ],
 "metadata": {
  "kernelspec": {
   "display_name": "Python 3",
   "language": "python",
   "name": "python3"
  },
  "language_info": {
   "codemirror_mode": {
    "name": "ipython",
    "version": 3
   },
   "file_extension": ".py",
   "mimetype": "text/x-python",
   "name": "python",
   "nbconvert_exporter": "python",
   "pygments_lexer": "ipython3",
   "version": "3.7.6"
  }
 },
 "nbformat": 4,
 "nbformat_minor": 4
}
